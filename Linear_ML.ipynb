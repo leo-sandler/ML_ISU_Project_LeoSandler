{
  "nbformat": 4,
  "nbformat_minor": 0,
  "metadata": {
    "colab": {
      "name": "Linear_ML.ipynb",
      "version": "0.3.2",
      "provenance": [],
      "collapsed_sections": [],
      "include_colab_link": true
    },
    "kernelspec": {
      "name": "python3",
      "display_name": "Python 3"
    },
    "accelerator": "GPU"
  },
  "cells": [
    {
      "cell_type": "markdown",
      "metadata": {
        "id": "view-in-github",
        "colab_type": "text"
      },
      "source": [
        "<a href=\"https://colab.research.google.com/github/leosandler/ML_ISU_Project_LeoSandler/blob/master/Linear_ML.ipynb\" target=\"_parent\"><img src=\"https://colab.research.google.com/assets/colab-badge.svg\" alt=\"Open In Colab\"/></a>"
      ]
    },
    {
      "metadata": {
        "id": "pDm-PfN9ssxv",
        "colab_type": "code",
        "outputId": "b3b18f97-3012-4037-deb5-f19e93fbcdd4",
        "colab": {
          "base_uri": "https://localhost:8080/",
          "height": 976
        }
      },
      "cell_type": "code",
      "source": [
        "import sys\n",
        "from __future__ import print_function\n",
        "import math  # Simple math based operations are done through this import.(Outside of the built in ones like adding, etc.)\n",
        "from IPython import display\n",
        "from matplotlib import cm\n",
        "from matplotlib import gridspec\n",
        "from matplotlib import pyplot as plt  # Matplotlib allows for data to be graphed within python.\n",
        "from matplotlib import patches\n",
        "import numpy as np  # Allows for more complex mathematics based operations.\n",
        "from sklearn import metrics\n",
        "import tensorflow as tf  \n",
        "from tensorflow.python.data import Dataset\n",
        "import pandas as pd  # Pandas is an import which allows for easy manipulation of data sets.\n",
        "from google.colab import files  # Allowing File I/O within this online interpreter.\n",
        "\n",
        "\n",
        "class Data:\n",
        "  def __init__(self, name, url):\n",
        "    self.name = name\n",
        "    self.url = url\n",
        "    self.pd_data = pd.read_csv(url, sep = \",\")\n",
        "    self.headers = list(self.pd_data.columns.values)\n",
        "      \n",
        "  \n",
        "  def histo_options(self):\n",
        "    cols = list(self.pd_data.columns.values)\n",
        "    for x in range(len(cols)):\n",
        "      cols[x] = cols[x].replace(\"_\", \" \").title()\n",
        "      print(str(x + 1) + \") \" + (cols[x]))\n",
        "      if x == len(cols) - 1:\n",
        "        print(str(x + 2) + \") Exit\")\n",
        "  \n",
        "  \n",
        "  def histogram(self):\n",
        "    print(\"This takes one section of your data and turns it into a histogram. A histogram is useful for visuali.\")\n",
        "    self.histo_options()\n",
        "    try:\n",
        "      user_cat = int(input(\"\\nYour Input: \"))\n",
        "      if 1 <= user_cat <= int(len(self.headers)):\n",
        "        print(\"You selected a histogram for \" + self.headers[user_cat - 1].replace(\"_\", \" \") + \".\")\n",
        "      elif user_cat == int(len(self.headers) + 1):\n",
        "        self.histogram()\n",
        "      else:\n",
        "        print(\"Please enter a valid number.\")\n",
        "        self.histogram()\n",
        "    except ValueError:\n",
        "      print(\"Please enter a number, not a string.\")\n",
        "      self.histogram()\n",
        "    if self.name == \"Bill Verification\":\n",
        "      print(\"Explain data and data nature. features\")\n",
        "    elif self.name == \"California Housing\":\n",
        "      print(\"Explain data and data nature. features\")\n",
        "    plt.subplot()\n",
        "    self.pd_data[self.headers[user_cat - 1]].hist()\n",
        "    plt.suptitle(self.name.title() + \" Histogram\", fontsize=20, color = \"white\")\n",
        "    plt.tick_params(axis = \"x\", colors = \"white\")\n",
        "    plt.tick_params(axis = \"y\", colors = \"white\")\n",
        "    category = self.headers[user_cat - 1].replace(\"_\", \" \").title()\n",
        "    plt.xlabel(category, fontsize=18, color = \"white\")\n",
        "    plt.ylabel(\"Apearances in Data Set\", fontsize=18, color = \"white\")\n",
        "    plt.show()\n",
        "    saving = input(\"(Y/N) Do you want to download this plot: \").title()\n",
        "    if saving == \"Y\":\n",
        "      filename = input(\"Enter in the file name: \")\n",
        "      plt.savefig(filename, format = \"png\" ,transparent = True)\n",
        "\n",
        "    \n",
        "class User:\n",
        "  def __init__(self, username):\n",
        "    self.data_dict = {}\n",
        "    self.csv_importing()\n",
        "    self.username = username\n",
        "    \n",
        "  def menu(self):\n",
        "    print(\"Hello \" + str(self.username) + \" Welcome, instructions\")\n",
        "    user_selection = int(input(\"1) Data Histogram\\n3) Exit\\nYour Input: \"))\n",
        "    if user_selection == 1:\n",
        "      file_input = input(\"Enter (California Housing) or (Bill Verification)\\nThe California data allows for you to model California \"\n",
        "                         \"housing price data from 1990 US Census.\\nThe Bill Verification option allows for you to train a model for\"\n",
        "                         \"a data set including various bill characteristics.\\nYour Input: \").title()\n",
        "      try:\n",
        "        self.data_dict[file_input].histogram()\n",
        "      except KeyError:\n",
        "        print(\"Enter one of the two file names.\")\n",
        "        self.menu()\n",
        "    elif user_selection == 2:\n",
        "      print(\"Do Something\")\n",
        "    elif user_selection == 3:\n",
        "      sys.exit(\"Thanks for using Leo's machine learning companion.\")\n",
        "    self.menu()\n",
        "  \n",
        "  def csv_importing(self):\n",
        "    class_instance = Data(\"California Housing\", \"https://download.mlcc.google.com/mledu-datasets/california_housing_train.csv\")\n",
        "    self.data_dict[class_instance.name] = class_instance\n",
        "    class_instance_2 = Data(\"Bill Verification\", \"https://raw.githubusercontent.com/leosandler/ML_ISU_Project_LeoSandler/master/Bill_Verification.csv?token=AKUCQ3PFIKMCKN3U2PZEE4C4ZG3VK\")\n",
        "    self.data_dict[class_instance_2.name] = class_instance_2\n",
        "    \n",
        "\n",
        "class Model(Data):\n",
        "  def __init__(self, model_name):\n",
        "    super().__init__(self)  # SET UP SUPER INIT. INHERITANCE BASED ON DATA CLASS.\n",
        "    self.model_name = model_name\n",
        "  \n",
        "  def text_file_download(self):\n",
        "    files.download(str(self.filename) + \".txt\")\n",
        "    \n",
        "hold = User(\"leo\")\n",
        "hold.menu()"
      ],
      "execution_count": 0,
      "outputs": [
        {
          "output_type": "stream",
          "text": [
            "Hello leo Welcome, instructions\n",
            "1) Data Histogram\n",
            "3) Exit\n",
            "Your Input: 1\n",
            "Enter (California Housing) or (Bill Verification)\n",
            "The California data allows for you to model California housing price data from 1990 US Census.\n",
            "The Bill Verification option allows for you to train a model fora data set including various bill characteristics.\n",
            "Your Input: california housing\n",
            "This takes one section of your data and turns it into a histogram. A histogram is useful for visuali.\n",
            "1) Longitude\n",
            "2) Latitude\n",
            "3) Housing Median Age\n",
            "4) Total Rooms\n",
            "5) Total Bedrooms\n",
            "6) Population\n",
            "7) Households\n",
            "8) Median Income\n",
            "9) Median House Value\n",
            "10) Exit\n",
            "\n",
            "Your Input: 1\n",
            "You selected a histogram for longitude.\n",
            "Explain data and data nature. features\n"
          ],
          "name": "stdout"
        },
        {
          "output_type": "display_data",
          "data": {
            "image/png": "[encoded data removed]",
            "text/plain": [
              "<Figure size 432x288 with 1 Axes>"
            ]
          },
          "metadata": {
            "tags": []
          }
        },
        {
          "output_type": "stream",
          "text": [
            "(Y/N) Do you want to download this plot: y\n",
            "Enter in the file name: file\n",
            "Hello leo Welcome, instructions\n",
            "1) Data Histogram\n",
            "3) Exit\n",
            "Your Input: 3\n"
          ],
          "name": "stdout"
        },
        {
          "output_type": "error",
          "ename": "SystemExit",
          "evalue": "ignored",
          "traceback": [
            "An exception has occurred, use %tb to see the full traceback.\n",
            "\u001b[0;31mSystemExit\u001b[0m\u001b[0;31m:\u001b[0m Thanks for using Leo's machine learning companion.\n"
          ]
        },
        {
          "output_type": "stream",
          "text": [
            "/usr/local/lib/python3.6/dist-packages/IPython/core/interactiveshell.py:2890: UserWarning: To exit: use 'exit', 'quit', or Ctrl-D.\n",
            "  warn(\"To exit: use 'exit', 'quit', or Ctrl-D.\", stacklevel=1)\n"
          ],
          "name": "stderr"
        },
        {
          "output_type": "display_data",
          "data": {
            "text/plain": [
              "<Figure size 432x288 with 0 Axes>"
            ]
          },
          "metadata": {
            "tags": []
          }
        }
      ]
    }
  ]
}